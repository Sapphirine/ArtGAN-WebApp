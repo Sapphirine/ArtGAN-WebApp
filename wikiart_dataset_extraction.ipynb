{
 "cells": [
  {
   "cell_type": "code",
   "execution_count": 10,
   "id": "047d4d66",
   "metadata": {},
   "outputs": [],
   "source": [
    "import random\n",
    "import os\n",
    "import shutil"
   ]
  },
  {
   "cell_type": "code",
   "execution_count": 35,
   "id": "4fb73e8e",
   "metadata": {},
   "outputs": [],
   "source": [
    "!mkdir /Users/jialin/Downloads/archive/selected/marina"
   ]
  },
  {
   "cell_type": "code",
   "execution_count": 36,
   "id": "be9aa698",
   "metadata": {},
   "outputs": [],
   "source": [
    "folder = 'marina'\n",
    "path = os.path.join('/Users/jialin/Downloads/dataset', folder)\n",
    "dst = '/Users/jialin/Downloads/archive/selected'\n",
    "file = os.listdir(path)\n",
    "sample_list = random.sample(file, 1800)\n",
    "for f in sample_list:\n",
    "    shutil.copy(os.path.join(path, f), os.path.join(dst, folder))"
   ]
  }
 ],
 "metadata": {
  "kernelspec": {
   "display_name": "Python 3 (ipykernel)",
   "language": "python",
   "name": "python3"
  },
  "language_info": {
   "codemirror_mode": {
    "name": "ipython",
    "version": 3
   },
   "file_extension": ".py",
   "mimetype": "text/x-python",
   "name": "python",
   "nbconvert_exporter": "python",
   "pygments_lexer": "ipython3",
   "version": "3.8.5"
  }
 },
 "nbformat": 4,
 "nbformat_minor": 5
}
